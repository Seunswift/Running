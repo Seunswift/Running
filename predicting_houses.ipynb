{
 "cells": [
  {
   "cell_type": "code",
   "execution_count": 3,
   "id": "e6f6ed7b",
   "metadata": {},
   "outputs": [
    {
     "ename": "ModuleNotFoundError",
     "evalue": "No module named 'mlflow'",
     "output_type": "error",
     "traceback": [
      "\u001b[1;31m---------------------------------------------------------------------------\u001b[0m",
      "\u001b[1;31mModuleNotFoundError\u001b[0m                       Traceback (most recent call last)",
      "\u001b[1;32mC:\\Users\\AADEFA~1\\AppData\\Local\\Temp/ipykernel_12068/2253150869.py\u001b[0m in \u001b[0;36m<module>\u001b[1;34m\u001b[0m\n\u001b[0;32m     12\u001b[0m \u001b[1;32mfrom\u001b[0m \u001b[0msklearn\u001b[0m\u001b[1;33m.\u001b[0m\u001b[0mmetrics\u001b[0m \u001b[1;32mimport\u001b[0m \u001b[0mmean_squared_error\u001b[0m\u001b[1;33m,\u001b[0m \u001b[0mr2_score\u001b[0m\u001b[1;33m,\u001b[0m \u001b[0mmean_absolute_error\u001b[0m\u001b[1;33m\u001b[0m\u001b[1;33m\u001b[0m\u001b[0m\n\u001b[0;32m     13\u001b[0m \u001b[1;31m#import mlflow\u001b[0m\u001b[1;33m\u001b[0m\u001b[1;33m\u001b[0m\u001b[0m\n\u001b[1;32m---> 14\u001b[1;33m \u001b[1;32mimport\u001b[0m \u001b[0mmlflow\u001b[0m\u001b[1;33m.\u001b[0m\u001b[0msklearn\u001b[0m\u001b[1;33m\u001b[0m\u001b[1;33m\u001b[0m\u001b[0m\n\u001b[0m\u001b[0;32m     15\u001b[0m \u001b[1;32mfrom\u001b[0m \u001b[0mmlflow\u001b[0m\u001b[1;33m.\u001b[0m\u001b[0mmodels\u001b[0m\u001b[1;33m.\u001b[0m\u001b[0mmodel\u001b[0m \u001b[1;32mimport\u001b[0m \u001b[0mget_model_info\u001b[0m\u001b[1;33m\u001b[0m\u001b[1;33m\u001b[0m\u001b[0m\n\u001b[0;32m     16\u001b[0m \u001b[1;32mfrom\u001b[0m \u001b[0mmlflow\u001b[0m\u001b[1;33m.\u001b[0m\u001b[0mmodels\u001b[0m \u001b[1;32mimport\u001b[0m \u001b[0minfer_signature\u001b[0m\u001b[1;33m,\u001b[0m \u001b[0mset_signature\u001b[0m\u001b[1;33m\u001b[0m\u001b[1;33m\u001b[0m\u001b[0m\n",
      "\u001b[1;31mModuleNotFoundError\u001b[0m: No module named 'mlflow'"
     ]
    }
   ],
   "source": [
    "from pyspark.sql import SparkSession\n",
    "import pandas as pd\n",
    "import seaborn as sns\n",
    "from category_encoders import OneHotEncoder\n",
    "from IPython.display import VimeoVideo\n",
    "from sklearn.impute import SimpleImputer\n",
    "from sklearn.linear_model import LinearRegression, Ridge  # noqa F401\n",
    "from sklearn.metrics import mean_absolute_error\n",
    "from sklearn.pipeline import make_pipeline\n",
    "from sklearn.utils.validation import check_is_fitted\n",
    "from sklearn.model_selection import train_test_split\n",
    "from sklearn.metrics import mean_squared_error, r2_score, mean_absolute_error\n",
    "import mlflow\n",
    "import mlflow.sklearn\n",
    "from mlflow.models.model import get_model_info\n",
    "from mlflow.models import infer_signature, set_signature\n",
    "\n",
    "from databricks.connect import DatabricksSession"
   ]
  },
  {
   "cell_type": "code",
   "execution_count": null,
   "id": "589205e5",
   "metadata": {},
   "outputs": [],
   "source": [
    "df = pd.read_csv(\"brasil-real-estate-1.csv\")"
   ]
  },
  {
   "cell_type": "code",
   "execution_count": null,
   "id": "c8387402",
   "metadata": {},
   "outputs": [],
   "source": [
    "df['price_usd'] = (df['price_usd']\n",
    "                    .str.replace(\"$\", \"\", regex = False)\n",
    "                    .str.replace(\",\", \"\")\n",
    "                    .astype(float)\n",
    ")"
   ]
  },
  {
   "cell_type": "code",
   "execution_count": null,
   "id": "9361d965",
   "metadata": {},
   "outputs": [],
   "source": [
    "df.drop(columns=[\"place_with_parent_names\",\"region\",\"lat-lon\"],inplace = True)\n",
    "df.head()\n",
    "\n",
    "y = df['price_usd']\n",
    "X = df.drop(columns=[\"price_usd\"])\n",
    "\n",
    "X_train, X_test, y_train, y_test = train_test_split(X, y, test_size=0.2, random_state=42)\n"
   ]
  },
  {
   "cell_type": "code",
   "execution_count": null,
   "id": "fd60a959",
   "metadata": {},
   "outputs": [],
   "source": [
    "# Set the experiment name dynamically based on the model name\n",
    "experiment_name = \"/Workspace/Users/abdulafeez.adefabi@pwc.com/Personal/trial\"\n",
    "mlflow.set_experiment(experiment_name)\n",
    "\n",
    "# Start MLflow run\n",
    "with mlflow.start_run(run_name=\"RidgeModel\"):\n",
    "    # Create and fit the model\n",
    "    alpha_value = 1.0  # Example value, replace with the actual alpha used\n",
    "    model = make_pipeline(OneHotEncoder(handle_unknown='ignore'), SimpleImputer(), Ridge(alpha=alpha_value))\n",
    "    model.fit(X_train, y_train)\n",
    "\n",
    "    # Log the model with a signature\n",
    "    mlflow.sklearn.log_model(model, \"model\", signature=infer_signature(X_train, model.predict(X_train)))\n",
    "\n",
    "    # Log hyperparameters\n",
    "    mlflow.log_param(\"alpha\", alpha_value)\n",
    "\n",
    "    # Make predictions on the test set\n",
    "    y_pred = model.predict(X_test)\n",
    "\n",
    "    # Calculate and log metrics\n",
    "    mse_value = mean_squared_error(y_test, y_pred)\n",
    "    r2_value = r2_score(y_test, y_pred)\n",
    "    rmse_value = mean_squared_error(y_test, y_pred, squared=False)\n",
    "    mae_value = mean_absolute_error(y_test, y_pred)\n",
    "\n",
    "    mlflow.log_metric(\"mse\", mse_value)\n",
    "    mlflow.log_metric(\"r2\", r2_value)\n",
    "    mlflow.log_metric(\"rmse\", rmse_value)\n",
    "    mlflow.log_metric(\"mae\", mae_value)\n",
    "\n",
    "    # Get the run ID and construct the model URI\n",
    "    run_id = mlflow.active_run().info.run_id\n",
    "    model_uri = f\"runs:/{run_id}/model\"\n",
    "    print(model_uri)\n",
    "\n",
    "    # Register the model\n",
    "    registered_model = mlflow.register_model(model_uri, \"Predicting_House\")\n",
    "    \n",
    "    # Serve the model\n",
    "    mlflow.pyfunc.serve(model_uri=model_uri, host=\"0.0.0.0\", port=5000)"
   ]
  }
 ],
 "metadata": {
  "kernelspec": {
   "display_name": "Python 3 (ipykernel)",
   "language": "python",
   "name": "python3"
  },
  "language_info": {
   "codemirror_mode": {
    "name": "ipython",
    "version": 3
   },
   "file_extension": ".py",
   "mimetype": "text/x-python",
   "name": "python",
   "nbconvert_exporter": "python",
   "pygments_lexer": "ipython3",
   "version": "3.9.8"
  }
 },
 "nbformat": 4,
 "nbformat_minor": 5
}
